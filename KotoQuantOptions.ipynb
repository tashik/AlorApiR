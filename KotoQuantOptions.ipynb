{
  "nbformat": 4,
  "nbformat_minor": 0,
  "metadata": {
    "colab": {
      "name": "KotoQuantOptions.ipynb",
      "provenance": [],
      "collapsed_sections": []
    },
    "kernelspec": {
      "name": "python3",
      "display_name": "Python 3"
    },
    "language_info": {
      "name": "python"
    }
  },
  "cells": [
    {
      "cell_type": "code",
      "source": [
        "import numpy as np\n",
        "import pandas as pd\n",
        "import math\n",
        "import matplotlib.pyplot as plt\n",
        "from scipy import stats, integrate\n",
        "\n",
        "import statsmodels.api as sm\n",
        "\n",
        "history = pd.read_csv(\"sample_data/history_Si_2020_2022.csv\", sep=\";\")\n",
        "history = history.drop([\"<OPEN>\", \"<LOW>\", \"<HIGH>\", \"<VOL>\"], axis=1)\n",
        "history[\"<DATE>\"] = history[\"<DATE>\"].astype(\"str\")\n",
        "history[\"<DTM>\"] = pd.to_datetime(history[\"<DATE>\"] + \" \" + history[\"<TIME>\"], format=\"%Y%m%d %H:%M:%S\")\n",
        "history = history.drop([\"<DATE>\", \"<TIME>\"], axis=1)\n",
        "history = history.set_index(history[\"<DTM>\"])\n",
        "history = history[1:]\n",
        "\n",
        "history.tail()"
      ],
      "metadata": {
        "colab": {
          "base_uri": "https://localhost:8080/",
          "height": 237
        },
        "id": "K-S4thLFP-lY",
        "outputId": "4686587a-3d93-4422-b63f-68946b210e04"
      },
      "execution_count": 2,
      "outputs": [
        {
          "output_type": "execute_result",
          "data": {
            "text/html": [
              "\n",
              "  <div id=\"df-a9e5acb5-dd68-4c3d-b3ad-e451a98631c8\">\n",
              "    <div class=\"colab-df-container\">\n",
              "      <div>\n",
              "<style scoped>\n",
              "    .dataframe tbody tr th:only-of-type {\n",
              "        vertical-align: middle;\n",
              "    }\n",
              "\n",
              "    .dataframe tbody tr th {\n",
              "        vertical-align: top;\n",
              "    }\n",
              "\n",
              "    .dataframe thead th {\n",
              "        text-align: right;\n",
              "    }\n",
              "</style>\n",
              "<table border=\"1\" class=\"dataframe\">\n",
              "  <thead>\n",
              "    <tr style=\"text-align: right;\">\n",
              "      <th></th>\n",
              "      <th>Unnamed: 0</th>\n",
              "      <th>&lt;CLOSE&gt;</th>\n",
              "      <th>&lt;DTM&gt;</th>\n",
              "    </tr>\n",
              "    <tr>\n",
              "      <th>&lt;DTM&gt;</th>\n",
              "      <th></th>\n",
              "      <th></th>\n",
              "      <th></th>\n",
              "    </tr>\n",
              "  </thead>\n",
              "  <tbody>\n",
              "    <tr>\n",
              "      <th>2022-01-26 23:25:00</th>\n",
              "      <td>3025</td>\n",
              "      <td>80417.0</td>\n",
              "      <td>2022-01-26 23:25:00</td>\n",
              "    </tr>\n",
              "    <tr>\n",
              "      <th>2022-01-26 23:30:00</th>\n",
              "      <td>3026</td>\n",
              "      <td>80603.0</td>\n",
              "      <td>2022-01-26 23:30:00</td>\n",
              "    </tr>\n",
              "    <tr>\n",
              "      <th>2022-01-26 23:35:00</th>\n",
              "      <td>3027</td>\n",
              "      <td>80631.0</td>\n",
              "      <td>2022-01-26 23:35:00</td>\n",
              "    </tr>\n",
              "    <tr>\n",
              "      <th>2022-01-26 23:40:00</th>\n",
              "      <td>3028</td>\n",
              "      <td>80564.0</td>\n",
              "      <td>2022-01-26 23:40:00</td>\n",
              "    </tr>\n",
              "    <tr>\n",
              "      <th>2022-01-26 23:45:00</th>\n",
              "      <td>3029</td>\n",
              "      <td>80488.0</td>\n",
              "      <td>2022-01-26 23:45:00</td>\n",
              "    </tr>\n",
              "  </tbody>\n",
              "</table>\n",
              "</div>\n",
              "      <button class=\"colab-df-convert\" onclick=\"convertToInteractive('df-a9e5acb5-dd68-4c3d-b3ad-e451a98631c8')\"\n",
              "              title=\"Convert this dataframe to an interactive table.\"\n",
              "              style=\"display:none;\">\n",
              "        \n",
              "  <svg xmlns=\"http://www.w3.org/2000/svg\" height=\"24px\"viewBox=\"0 0 24 24\"\n",
              "       width=\"24px\">\n",
              "    <path d=\"M0 0h24v24H0V0z\" fill=\"none\"/>\n",
              "    <path d=\"M18.56 5.44l.94 2.06.94-2.06 2.06-.94-2.06-.94-.94-2.06-.94 2.06-2.06.94zm-11 1L8.5 8.5l.94-2.06 2.06-.94-2.06-.94L8.5 2.5l-.94 2.06-2.06.94zm10 10l.94 2.06.94-2.06 2.06-.94-2.06-.94-.94-2.06-.94 2.06-2.06.94z\"/><path d=\"M17.41 7.96l-1.37-1.37c-.4-.4-.92-.59-1.43-.59-.52 0-1.04.2-1.43.59L10.3 9.45l-7.72 7.72c-.78.78-.78 2.05 0 2.83L4 21.41c.39.39.9.59 1.41.59.51 0 1.02-.2 1.41-.59l7.78-7.78 2.81-2.81c.8-.78.8-2.07 0-2.86zM5.41 20L4 18.59l7.72-7.72 1.47 1.35L5.41 20z\"/>\n",
              "  </svg>\n",
              "      </button>\n",
              "      \n",
              "  <style>\n",
              "    .colab-df-container {\n",
              "      display:flex;\n",
              "      flex-wrap:wrap;\n",
              "      gap: 12px;\n",
              "    }\n",
              "\n",
              "    .colab-df-convert {\n",
              "      background-color: #E8F0FE;\n",
              "      border: none;\n",
              "      border-radius: 50%;\n",
              "      cursor: pointer;\n",
              "      display: none;\n",
              "      fill: #1967D2;\n",
              "      height: 32px;\n",
              "      padding: 0 0 0 0;\n",
              "      width: 32px;\n",
              "    }\n",
              "\n",
              "    .colab-df-convert:hover {\n",
              "      background-color: #E2EBFA;\n",
              "      box-shadow: 0px 1px 2px rgba(60, 64, 67, 0.3), 0px 1px 3px 1px rgba(60, 64, 67, 0.15);\n",
              "      fill: #174EA6;\n",
              "    }\n",
              "\n",
              "    [theme=dark] .colab-df-convert {\n",
              "      background-color: #3B4455;\n",
              "      fill: #D2E3FC;\n",
              "    }\n",
              "\n",
              "    [theme=dark] .colab-df-convert:hover {\n",
              "      background-color: #434B5C;\n",
              "      box-shadow: 0px 1px 3px 1px rgba(0, 0, 0, 0.15);\n",
              "      filter: drop-shadow(0px 1px 2px rgba(0, 0, 0, 0.3));\n",
              "      fill: #FFFFFF;\n",
              "    }\n",
              "  </style>\n",
              "\n",
              "      <script>\n",
              "        const buttonEl =\n",
              "          document.querySelector('#df-a9e5acb5-dd68-4c3d-b3ad-e451a98631c8 button.colab-df-convert');\n",
              "        buttonEl.style.display =\n",
              "          google.colab.kernel.accessAllowed ? 'block' : 'none';\n",
              "\n",
              "        async function convertToInteractive(key) {\n",
              "          const element = document.querySelector('#df-a9e5acb5-dd68-4c3d-b3ad-e451a98631c8');\n",
              "          const dataTable =\n",
              "            await google.colab.kernel.invokeFunction('convertToInteractive',\n",
              "                                                     [key], {});\n",
              "          if (!dataTable) return;\n",
              "\n",
              "          const docLinkHtml = 'Like what you see? Visit the ' +\n",
              "            '<a target=\"_blank\" href=https://colab.research.google.com/notebooks/data_table.ipynb>data table notebook</a>'\n",
              "            + ' to learn more about interactive tables.';\n",
              "          element.innerHTML = '';\n",
              "          dataTable['output_type'] = 'display_data';\n",
              "          await google.colab.output.renderOutput(dataTable, element);\n",
              "          const docLink = document.createElement('div');\n",
              "          docLink.innerHTML = docLinkHtml;\n",
              "          element.appendChild(docLink);\n",
              "        }\n",
              "      </script>\n",
              "    </div>\n",
              "  </div>\n",
              "  "
            ],
            "text/plain": [
              "                     Unnamed: 0  <CLOSE>               <DTM>\n",
              "<DTM>                                                       \n",
              "2022-01-26 23:25:00        3025  80417.0 2022-01-26 23:25:00\n",
              "2022-01-26 23:30:00        3026  80603.0 2022-01-26 23:30:00\n",
              "2022-01-26 23:35:00        3027  80631.0 2022-01-26 23:35:00\n",
              "2022-01-26 23:40:00        3028  80564.0 2022-01-26 23:40:00\n",
              "2022-01-26 23:45:00        3029  80488.0 2022-01-26 23:45:00"
            ]
          },
          "metadata": {},
          "execution_count": 2
        }
      ]
    },
    {
      "cell_type": "markdown",
      "source": [
        "Введем параметры"
      ],
      "metadata": {
        "id": "djtjz-3hWD_Y"
      }
    },
    {
      "cell_type": "code",
      "source": [
        "ema_len = 50                      # период скользящей средней\n",
        "T = 500                           # к-во 5-минутных баров до экспирации\n",
        "bars_daily = 198                  # к-во 5-минутных баров в торговом дне\n",
        "D_EXP = math.floor(T/bars_daily)  # дней до экспирации\n",
        "Tmarket = 2                       # рыночное время до экспирации (дней?)\n",
        "\n",
        "futures_price = 78000\n",
        "option_strike = 77000"
      ],
      "metadata": {
        "id": "W_r4uwlRdTWy"
      },
      "execution_count": 3,
      "outputs": []
    },
    {
      "cell_type": "markdown",
      "source": [
        "Рассчитаем лог-приращения и дисперсию"
      ],
      "metadata": {
        "id": "OxvEifR9dQ10"
      }
    },
    {
      "cell_type": "code",
      "source": [
        "history[\"RET\"] = np.log(history[\"<CLOSE>\"]) - np.log(history[\"<CLOSE>\"].shift(1))  # L(t)\n",
        "history[\"VARIANCE\"] = history[\"RET\"] ** 2\n",
        "history.tail()"
      ],
      "metadata": {
        "colab": {
          "base_uri": "https://localhost:8080/",
          "height": 237
        },
        "id": "Oe4-gQh7W5-C",
        "outputId": "65d97715-87f2-46ac-b50b-7d99563dc28a"
      },
      "execution_count": 4,
      "outputs": [
        {
          "output_type": "execute_result",
          "data": {
            "text/html": [
              "\n",
              "  <div id=\"df-bdcfa617-faf2-4d09-b81f-a20ca73cae59\">\n",
              "    <div class=\"colab-df-container\">\n",
              "      <div>\n",
              "<style scoped>\n",
              "    .dataframe tbody tr th:only-of-type {\n",
              "        vertical-align: middle;\n",
              "    }\n",
              "\n",
              "    .dataframe tbody tr th {\n",
              "        vertical-align: top;\n",
              "    }\n",
              "\n",
              "    .dataframe thead th {\n",
              "        text-align: right;\n",
              "    }\n",
              "</style>\n",
              "<table border=\"1\" class=\"dataframe\">\n",
              "  <thead>\n",
              "    <tr style=\"text-align: right;\">\n",
              "      <th></th>\n",
              "      <th>Unnamed: 0</th>\n",
              "      <th>&lt;CLOSE&gt;</th>\n",
              "      <th>&lt;DTM&gt;</th>\n",
              "      <th>RET</th>\n",
              "      <th>VARIANCE</th>\n",
              "    </tr>\n",
              "    <tr>\n",
              "      <th>&lt;DTM&gt;</th>\n",
              "      <th></th>\n",
              "      <th></th>\n",
              "      <th></th>\n",
              "      <th></th>\n",
              "      <th></th>\n",
              "    </tr>\n",
              "  </thead>\n",
              "  <tbody>\n",
              "    <tr>\n",
              "      <th>2022-01-26 23:25:00</th>\n",
              "      <td>3025</td>\n",
              "      <td>80417.0</td>\n",
              "      <td>2022-01-26 23:25:00</td>\n",
              "      <td>-0.001926</td>\n",
              "      <td>3.707928e-06</td>\n",
              "    </tr>\n",
              "    <tr>\n",
              "      <th>2022-01-26 23:30:00</th>\n",
              "      <td>3026</td>\n",
              "      <td>80603.0</td>\n",
              "      <td>2022-01-26 23:30:00</td>\n",
              "      <td>0.002310</td>\n",
              "      <td>5.337362e-06</td>\n",
              "    </tr>\n",
              "    <tr>\n",
              "      <th>2022-01-26 23:35:00</th>\n",
              "      <td>3027</td>\n",
              "      <td>80631.0</td>\n",
              "      <td>2022-01-26 23:35:00</td>\n",
              "      <td>0.000347</td>\n",
              "      <td>1.206321e-07</td>\n",
              "    </tr>\n",
              "    <tr>\n",
              "      <th>2022-01-26 23:40:00</th>\n",
              "      <td>3028</td>\n",
              "      <td>80564.0</td>\n",
              "      <td>2022-01-26 23:40:00</td>\n",
              "      <td>-0.000831</td>\n",
              "      <td>6.910453e-07</td>\n",
              "    </tr>\n",
              "    <tr>\n",
              "      <th>2022-01-26 23:45:00</th>\n",
              "      <td>3029</td>\n",
              "      <td>80488.0</td>\n",
              "      <td>2022-01-26 23:45:00</td>\n",
              "      <td>-0.000944</td>\n",
              "      <td>8.907483e-07</td>\n",
              "    </tr>\n",
              "  </tbody>\n",
              "</table>\n",
              "</div>\n",
              "      <button class=\"colab-df-convert\" onclick=\"convertToInteractive('df-bdcfa617-faf2-4d09-b81f-a20ca73cae59')\"\n",
              "              title=\"Convert this dataframe to an interactive table.\"\n",
              "              style=\"display:none;\">\n",
              "        \n",
              "  <svg xmlns=\"http://www.w3.org/2000/svg\" height=\"24px\"viewBox=\"0 0 24 24\"\n",
              "       width=\"24px\">\n",
              "    <path d=\"M0 0h24v24H0V0z\" fill=\"none\"/>\n",
              "    <path d=\"M18.56 5.44l.94 2.06.94-2.06 2.06-.94-2.06-.94-.94-2.06-.94 2.06-2.06.94zm-11 1L8.5 8.5l.94-2.06 2.06-.94-2.06-.94L8.5 2.5l-.94 2.06-2.06.94zm10 10l.94 2.06.94-2.06 2.06-.94-2.06-.94-.94-2.06-.94 2.06-2.06.94z\"/><path d=\"M17.41 7.96l-1.37-1.37c-.4-.4-.92-.59-1.43-.59-.52 0-1.04.2-1.43.59L10.3 9.45l-7.72 7.72c-.78.78-.78 2.05 0 2.83L4 21.41c.39.39.9.59 1.41.59.51 0 1.02-.2 1.41-.59l7.78-7.78 2.81-2.81c.8-.78.8-2.07 0-2.86zM5.41 20L4 18.59l7.72-7.72 1.47 1.35L5.41 20z\"/>\n",
              "  </svg>\n",
              "      </button>\n",
              "      \n",
              "  <style>\n",
              "    .colab-df-container {\n",
              "      display:flex;\n",
              "      flex-wrap:wrap;\n",
              "      gap: 12px;\n",
              "    }\n",
              "\n",
              "    .colab-df-convert {\n",
              "      background-color: #E8F0FE;\n",
              "      border: none;\n",
              "      border-radius: 50%;\n",
              "      cursor: pointer;\n",
              "      display: none;\n",
              "      fill: #1967D2;\n",
              "      height: 32px;\n",
              "      padding: 0 0 0 0;\n",
              "      width: 32px;\n",
              "    }\n",
              "\n",
              "    .colab-df-convert:hover {\n",
              "      background-color: #E2EBFA;\n",
              "      box-shadow: 0px 1px 2px rgba(60, 64, 67, 0.3), 0px 1px 3px 1px rgba(60, 64, 67, 0.15);\n",
              "      fill: #174EA6;\n",
              "    }\n",
              "\n",
              "    [theme=dark] .colab-df-convert {\n",
              "      background-color: #3B4455;\n",
              "      fill: #D2E3FC;\n",
              "    }\n",
              "\n",
              "    [theme=dark] .colab-df-convert:hover {\n",
              "      background-color: #434B5C;\n",
              "      box-shadow: 0px 1px 3px 1px rgba(0, 0, 0, 0.15);\n",
              "      filter: drop-shadow(0px 1px 2px rgba(0, 0, 0, 0.3));\n",
              "      fill: #FFFFFF;\n",
              "    }\n",
              "  </style>\n",
              "\n",
              "      <script>\n",
              "        const buttonEl =\n",
              "          document.querySelector('#df-bdcfa617-faf2-4d09-b81f-a20ca73cae59 button.colab-df-convert');\n",
              "        buttonEl.style.display =\n",
              "          google.colab.kernel.accessAllowed ? 'block' : 'none';\n",
              "\n",
              "        async function convertToInteractive(key) {\n",
              "          const element = document.querySelector('#df-bdcfa617-faf2-4d09-b81f-a20ca73cae59');\n",
              "          const dataTable =\n",
              "            await google.colab.kernel.invokeFunction('convertToInteractive',\n",
              "                                                     [key], {});\n",
              "          if (!dataTable) return;\n",
              "\n",
              "          const docLinkHtml = 'Like what you see? Visit the ' +\n",
              "            '<a target=\"_blank\" href=https://colab.research.google.com/notebooks/data_table.ipynb>data table notebook</a>'\n",
              "            + ' to learn more about interactive tables.';\n",
              "          element.innerHTML = '';\n",
              "          dataTable['output_type'] = 'display_data';\n",
              "          await google.colab.output.renderOutput(dataTable, element);\n",
              "          const docLink = document.createElement('div');\n",
              "          docLink.innerHTML = docLinkHtml;\n",
              "          element.appendChild(docLink);\n",
              "        }\n",
              "      </script>\n",
              "    </div>\n",
              "  </div>\n",
              "  "
            ],
            "text/plain": [
              "                     Unnamed: 0  <CLOSE>  ...       RET      VARIANCE\n",
              "<DTM>                                     ...                        \n",
              "2022-01-26 23:25:00        3025  80417.0  ... -0.001926  3.707928e-06\n",
              "2022-01-26 23:30:00        3026  80603.0  ...  0.002310  5.337362e-06\n",
              "2022-01-26 23:35:00        3027  80631.0  ...  0.000347  1.206321e-07\n",
              "2022-01-26 23:40:00        3028  80564.0  ... -0.000831  6.910453e-07\n",
              "2022-01-26 23:45:00        3029  80488.0  ... -0.000944  8.907483e-07\n",
              "\n",
              "[5 rows x 5 columns]"
            ]
          },
          "metadata": {},
          "execution_count": 4
        }
      ]
    },
    {
      "cell_type": "markdown",
      "source": [
        "Рассчитаем веса баров на всем имеющемся наборе данных"
      ],
      "metadata": {
        "id": "go2GTm3FkK7N"
      }
    },
    {
      "cell_type": "code",
      "source": [
        "bars_means = history.groupby([history.index.minute.rename(\"minute\"), history.index.hour.rename(\"hour\")])[\"VARIANCE\"].mean()\n",
        "bars_means"
      ],
      "metadata": {
        "colab": {
          "base_uri": "https://localhost:8080/"
        },
        "id": "KlnNo1eDkd__",
        "outputId": "e1ecf95b-35f2-47fe-9811-5bb929564aac"
      },
      "execution_count": 5,
      "outputs": [
        {
          "output_type": "execute_result",
          "data": {
            "text/plain": [
              "minute  hour\n",
              "0       7       2.157096e-06\n",
              "        8       1.144785e-07\n",
              "        9       2.192721e-07\n",
              "        10      2.180073e-05\n",
              "        11      5.624944e-07\n",
              "                    ...     \n",
              "55      18      0.000000e+00\n",
              "        19      5.488168e-07\n",
              "        20      1.633946e-07\n",
              "        21      1.866873e-07\n",
              "        22      1.535035e-07\n",
              "Name: VARIANCE, Length: 202, dtype: float64"
            ]
          },
          "metadata": {},
          "execution_count": 5
        }
      ]
    },
    {
      "cell_type": "code",
      "source": [
        "sum_means = sum(bars_means)\n",
        "bar_weights = bars_means / sum_means\n",
        "\n",
        "bar_weights"
      ],
      "metadata": {
        "colab": {
          "base_uri": "https://localhost:8080/"
        },
        "id": "hJjW5veK5af2",
        "outputId": "0ff40006-7332-45c1-8c3c-dab9e9f22f57"
      },
      "execution_count": 6,
      "outputs": [
        {
          "output_type": "execute_result",
          "data": {
            "text/plain": [
              "minute  hour\n",
              "0       7       0.023314\n",
              "        8       0.001237\n",
              "        9       0.002370\n",
              "        10      0.235623\n",
              "        11      0.006079\n",
              "                  ...   \n",
              "55      18      0.000000\n",
              "        19      0.005932\n",
              "        20      0.001766\n",
              "        21      0.002018\n",
              "        22      0.001659\n",
              "Name: VARIANCE, Length: 202, dtype: float64"
            ]
          },
          "metadata": {},
          "execution_count": 6
        }
      ]
    },
    {
      "cell_type": "markdown",
      "source": [
        "Проставим веса баров в общий датафрейм"
      ],
      "metadata": {
        "id": "-pElRWgTp7WZ"
      }
    },
    {
      "cell_type": "code",
      "source": [
        "history['Tkn'] = history.apply(lambda row: bar_weights[row[\"<DTM>\"].minute][row[\"<DTM>\"].hour], axis=1) # рыночное время пятиминутки, выраженное в сутках\n",
        "history.head()"
      ],
      "metadata": {
        "colab": {
          "base_uri": "https://localhost:8080/",
          "height": 237
        },
        "id": "6WrdQwf7qA9F",
        "outputId": "469729cf-b2a4-4d6f-ba18-dd177a8161f6"
      },
      "execution_count": 8,
      "outputs": [
        {
          "output_type": "execute_result",
          "data": {
            "text/html": [
              "\n",
              "  <div id=\"df-85a6af9a-1782-48f9-a6db-6ab3655426f1\">\n",
              "    <div class=\"colab-df-container\">\n",
              "      <div>\n",
              "<style scoped>\n",
              "    .dataframe tbody tr th:only-of-type {\n",
              "        vertical-align: middle;\n",
              "    }\n",
              "\n",
              "    .dataframe tbody tr th {\n",
              "        vertical-align: top;\n",
              "    }\n",
              "\n",
              "    .dataframe thead th {\n",
              "        text-align: right;\n",
              "    }\n",
              "</style>\n",
              "<table border=\"1\" class=\"dataframe\">\n",
              "  <thead>\n",
              "    <tr style=\"text-align: right;\">\n",
              "      <th></th>\n",
              "      <th>Unnamed: 0</th>\n",
              "      <th>&lt;CLOSE&gt;</th>\n",
              "      <th>&lt;DTM&gt;</th>\n",
              "      <th>RET</th>\n",
              "      <th>VARIANCE</th>\n",
              "      <th>Tkn</th>\n",
              "    </tr>\n",
              "    <tr>\n",
              "      <th>&lt;DTM&gt;</th>\n",
              "      <th></th>\n",
              "      <th></th>\n",
              "      <th></th>\n",
              "      <th></th>\n",
              "      <th></th>\n",
              "      <th></th>\n",
              "    </tr>\n",
              "  </thead>\n",
              "  <tbody>\n",
              "    <tr>\n",
              "      <th>2020-01-08 10:05:00</th>\n",
              "      <td>1</td>\n",
              "      <td>62406.0</td>\n",
              "      <td>2020-01-08 10:05:00</td>\n",
              "      <td>NaN</td>\n",
              "      <td>NaN</td>\n",
              "      <td>0.021800</td>\n",
              "    </tr>\n",
              "    <tr>\n",
              "      <th>2020-01-08 10:10:00</th>\n",
              "      <td>2</td>\n",
              "      <td>62320.0</td>\n",
              "      <td>2020-01-08 10:10:00</td>\n",
              "      <td>-0.001379</td>\n",
              "      <td>1.901705e-06</td>\n",
              "      <td>0.011782</td>\n",
              "    </tr>\n",
              "    <tr>\n",
              "      <th>2020-01-08 10:15:00</th>\n",
              "      <td>3</td>\n",
              "      <td>62331.0</td>\n",
              "      <td>2020-01-08 10:15:00</td>\n",
              "      <td>0.000176</td>\n",
              "      <td>3.114970e-08</td>\n",
              "      <td>0.008235</td>\n",
              "    </tr>\n",
              "    <tr>\n",
              "      <th>2020-01-08 10:20:00</th>\n",
              "      <td>4</td>\n",
              "      <td>62402.0</td>\n",
              "      <td>2020-01-08 10:20:00</td>\n",
              "      <td>0.001138</td>\n",
              "      <td>1.296027e-06</td>\n",
              "      <td>0.006622</td>\n",
              "    </tr>\n",
              "    <tr>\n",
              "      <th>2020-01-08 10:25:00</th>\n",
              "      <td>5</td>\n",
              "      <td>62366.0</td>\n",
              "      <td>2020-01-08 10:25:00</td>\n",
              "      <td>-0.000577</td>\n",
              "      <td>3.330110e-07</td>\n",
              "      <td>0.005805</td>\n",
              "    </tr>\n",
              "  </tbody>\n",
              "</table>\n",
              "</div>\n",
              "      <button class=\"colab-df-convert\" onclick=\"convertToInteractive('df-85a6af9a-1782-48f9-a6db-6ab3655426f1')\"\n",
              "              title=\"Convert this dataframe to an interactive table.\"\n",
              "              style=\"display:none;\">\n",
              "        \n",
              "  <svg xmlns=\"http://www.w3.org/2000/svg\" height=\"24px\"viewBox=\"0 0 24 24\"\n",
              "       width=\"24px\">\n",
              "    <path d=\"M0 0h24v24H0V0z\" fill=\"none\"/>\n",
              "    <path d=\"M18.56 5.44l.94 2.06.94-2.06 2.06-.94-2.06-.94-.94-2.06-.94 2.06-2.06.94zm-11 1L8.5 8.5l.94-2.06 2.06-.94-2.06-.94L8.5 2.5l-.94 2.06-2.06.94zm10 10l.94 2.06.94-2.06 2.06-.94-2.06-.94-.94-2.06-.94 2.06-2.06.94z\"/><path d=\"M17.41 7.96l-1.37-1.37c-.4-.4-.92-.59-1.43-.59-.52 0-1.04.2-1.43.59L10.3 9.45l-7.72 7.72c-.78.78-.78 2.05 0 2.83L4 21.41c.39.39.9.59 1.41.59.51 0 1.02-.2 1.41-.59l7.78-7.78 2.81-2.81c.8-.78.8-2.07 0-2.86zM5.41 20L4 18.59l7.72-7.72 1.47 1.35L5.41 20z\"/>\n",
              "  </svg>\n",
              "      </button>\n",
              "      \n",
              "  <style>\n",
              "    .colab-df-container {\n",
              "      display:flex;\n",
              "      flex-wrap:wrap;\n",
              "      gap: 12px;\n",
              "    }\n",
              "\n",
              "    .colab-df-convert {\n",
              "      background-color: #E8F0FE;\n",
              "      border: none;\n",
              "      border-radius: 50%;\n",
              "      cursor: pointer;\n",
              "      display: none;\n",
              "      fill: #1967D2;\n",
              "      height: 32px;\n",
              "      padding: 0 0 0 0;\n",
              "      width: 32px;\n",
              "    }\n",
              "\n",
              "    .colab-df-convert:hover {\n",
              "      background-color: #E2EBFA;\n",
              "      box-shadow: 0px 1px 2px rgba(60, 64, 67, 0.3), 0px 1px 3px 1px rgba(60, 64, 67, 0.15);\n",
              "      fill: #174EA6;\n",
              "    }\n",
              "\n",
              "    [theme=dark] .colab-df-convert {\n",
              "      background-color: #3B4455;\n",
              "      fill: #D2E3FC;\n",
              "    }\n",
              "\n",
              "    [theme=dark] .colab-df-convert:hover {\n",
              "      background-color: #434B5C;\n",
              "      box-shadow: 0px 1px 3px 1px rgba(0, 0, 0, 0.15);\n",
              "      filter: drop-shadow(0px 1px 2px rgba(0, 0, 0, 0.3));\n",
              "      fill: #FFFFFF;\n",
              "    }\n",
              "  </style>\n",
              "\n",
              "      <script>\n",
              "        const buttonEl =\n",
              "          document.querySelector('#df-85a6af9a-1782-48f9-a6db-6ab3655426f1 button.colab-df-convert');\n",
              "        buttonEl.style.display =\n",
              "          google.colab.kernel.accessAllowed ? 'block' : 'none';\n",
              "\n",
              "        async function convertToInteractive(key) {\n",
              "          const element = document.querySelector('#df-85a6af9a-1782-48f9-a6db-6ab3655426f1');\n",
              "          const dataTable =\n",
              "            await google.colab.kernel.invokeFunction('convertToInteractive',\n",
              "                                                     [key], {});\n",
              "          if (!dataTable) return;\n",
              "\n",
              "          const docLinkHtml = 'Like what you see? Visit the ' +\n",
              "            '<a target=\"_blank\" href=https://colab.research.google.com/notebooks/data_table.ipynb>data table notebook</a>'\n",
              "            + ' to learn more about interactive tables.';\n",
              "          element.innerHTML = '';\n",
              "          dataTable['output_type'] = 'display_data';\n",
              "          await google.colab.output.renderOutput(dataTable, element);\n",
              "          const docLink = document.createElement('div');\n",
              "          docLink.innerHTML = docLinkHtml;\n",
              "          element.appendChild(docLink);\n",
              "        }\n",
              "      </script>\n",
              "    </div>\n",
              "  </div>\n",
              "  "
            ],
            "text/plain": [
              "                     Unnamed: 0  <CLOSE>  ...      VARIANCE       Tkn\n",
              "<DTM>                                     ...                        \n",
              "2020-01-08 10:05:00           1  62406.0  ...           NaN  0.021800\n",
              "2020-01-08 10:10:00           2  62320.0  ...  1.901705e-06  0.011782\n",
              "2020-01-08 10:15:00           3  62331.0  ...  3.114970e-08  0.008235\n",
              "2020-01-08 10:20:00           4  62402.0  ...  1.296027e-06  0.006622\n",
              "2020-01-08 10:25:00           5  62366.0  ...  3.330110e-07  0.005805\n",
              "\n",
              "[5 rows x 6 columns]"
            ]
          },
          "metadata": {},
          "execution_count": 8
        }
      ]
    },
    {
      "cell_type": "markdown",
      "source": [
        "Отнормируем сглаженную дисперсию на время до экспирации и рассчитаем \"котопсевдовол\" до экспирации (V)"
      ],
      "metadata": {
        "id": "wRBejENkeOPp"
      }
    },
    {
      "cell_type": "code",
      "source": [
        "history[\"VARIANCE_WEIGHTED\"] = history[\"VARIANCE\"] / history[\"Tkn\"]   # суточная волатильность\n",
        "history[\"VARIANCE_SMOOTHED\"] = history['VARIANCE_WEIGHTED'].ewm(span=ema_len,min_periods=ema_len,adjust=False,ignore_na=False).mean() # усреденная суточная волатильность\n",
        "history = history.drop(history[history[\"VARIANCE_SMOOTHED\"] == 0].index)    # убираем нулевые значения\n",
        "\n",
        "# last_row_var_smoothed = history.iloc[-1][\"VARIANCE_SMOOTHED\"]\n",
        "\n",
        "history[\"SMA_Tkn\"] = history[\"Tkn\"].rolling(T).mean()\n",
        "\n",
        "# Ты скользишь окном T, за это окно набегает рыночного времени SMA(Tkn,T)*T \n",
        "history[\"RET_NORMALIZED\"] = history[\"RET\"].rolling(T).sum() / (history[\"VARIANCE_SMOOTHED\"] * history[\"SMA_Tkn\"] * T) ** 0.5\n",
        "\n",
        "#history[\"RET_NORMALIZED\"] = history[\"RET_NORMALIZED\"]*history[\"VARIANCE_SMOOTHED\"]*(Tmarket)**0.5\n",
        "#history[\"RET_NORMALIZED\"] = history[\"RET_NORMALIZED\"].apply(lambda x: math.exp(x))\n",
        "#history[\"RET_NORMALIZED\"] = history[\"RET_NORMALIZED\"] * futures_price\n",
        "history.hist(column=\"RET_NORMALIZED\", bins=100, density=True)"
      ],
      "metadata": {
        "colab": {
          "base_uri": "https://localhost:8080/",
          "height": 316
        },
        "id": "N9wiKAd1fAuT",
        "outputId": "e74ceed9-7d85-4b8a-b0f2-c2d8f5919be9"
      },
      "execution_count": 52,
      "outputs": [
        {
          "output_type": "execute_result",
          "data": {
            "text/plain": [
              "array([[<matplotlib.axes._subplots.AxesSubplot object at 0x7fd0368966d0>]],\n",
              "      dtype=object)"
            ]
          },
          "metadata": {},
          "execution_count": 52
        },
        {
          "output_type": "display_data",
          "data": {
            "image/png": "[encoded data removed]",
            "text/plain": [
              "<Figure size 432x288 with 1 Axes>"
            ]
          },
          "metadata": {
            "needs_background": "light"
          }
        }
      ]
    },
    {
      "cell_type": "markdown",
      "source": [
        "Сглаживание"
      ],
      "metadata": {
        "id": "2-VB_CdVh4qU"
      }
    },
    {
      "cell_type": "code",
      "source": [
        "kde = sm.nonparametric.KDEUnivariate(history[\"RET_NORMALIZED\"])\n",
        "kde.fit()"
      ],
      "metadata": {
        "id": "rqiL5ZMCEEhe"
      },
      "execution_count": 53,
      "outputs": []
    },
    {
      "cell_type": "code",
      "source": [
        "fig = plt.figure(figsize=(12, 5))\n",
        "ax = fig.add_subplot(111)\n",
        "\n",
        "ax.hist(\n",
        "    history[\"RET_NORMALIZED\"],\n",
        "    bins=40,\n",
        "    label=\"Sample histogram\",\n",
        "    zorder=5,\n",
        "    edgecolor=\"c\",\n",
        "    density=True,\n",
        "    alpha=0.5\n",
        ")\n",
        "ax.plot(kde.support, kde.density, lw=3, label=\"Sample KDE\")\n",
        "ax.legend(loc=\"best\")\n",
        "plt.show()"
      ],
      "metadata": {
        "colab": {
          "base_uri": "https://localhost:8080/",
          "height": 320
        },
        "id": "jLGosDkDDzwx",
        "outputId": "0f2f51ca-ba1a-4b2b-cc9f-cd0d077024a9"
      },
      "execution_count": 54,
      "outputs": [
        {
          "output_type": "display_data",
          "data": {
            "image/png": "[encoded data removed]",
            "text/plain": [
              "<Figure size 864x360 with 1 Axes>"
            ]
          },
          "metadata": {
            "needs_background": "light"
          }
        }
      ]
    },
    {
      "cell_type": "markdown",
      "source": [
        "Рассчитаем цену опциона колл страйк 77000 цена фьючерса 78000, до экспирации примерно 3-е суток (500 баров M5)"
      ],
      "metadata": {
        "id": "MuCCO8-j57kQ"
      }
    },
    {
      "cell_type": "code",
      "source": [
        "call_price = integrate.quad(lambda x: kde.evaluate(x)*D_EXP**0.5, futures_price/option_strike, np.inf)\n",
        "call_price"
      ],
      "metadata": {
        "colab": {
          "base_uri": "https://localhost:8080/"
        },
        "id": "6Rs8gLn6T538",
        "outputId": "c24ff200-830f-4112-b507-b363a7f7fce5"
      },
      "execution_count": 19,
      "outputs": [
        {
          "output_type": "stream",
          "name": "stderr",
          "text": [
            "/usr/local/lib/python3.7/dist-packages/ipykernel_launcher.py:1: IntegrationWarning: The occurrence of roundoff error is detected, which prevents \n",
            "  the requested tolerance from being achieved.  The error may be \n",
            "  underestimated.\n",
            "  \"\"\"Entry point for launching an IPython kernel.\n"
          ]
        },
        {
          "output_type": "execute_result",
          "data": {
            "text/plain": [
              "(nan, nan)"
            ]
          },
          "metadata": {},
          "execution_count": 19
        }
      ]
    }
  ]
}